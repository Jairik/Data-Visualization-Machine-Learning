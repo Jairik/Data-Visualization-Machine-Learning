{
 "cells": [
  {
   "cell_type": "markdown",
   "metadata": {},
   "source": [
    "# Numerical Tools\n",
    "Covers: Numpy & Pandas "
   ]
  },
  {
   "cell_type": "markdown",
   "metadata": {},
   "source": [
    "## Numpy"
   ]
  },
  {
   "cell_type": "markdown",
   "metadata": {},
   "source": [
    "#### Creating Numpy Arrays"
   ]
  },
  {
   "cell_type": "code",
   "execution_count": 5,
   "metadata": {},
   "outputs": [
    {
     "name": "stdout",
     "output_type": "stream",
     "text": [
      "3\n"
     ]
    }
   ],
   "source": [
    "import numpy as np\n",
    "\n",
    "# Create special Numpy array (more efficient & faster)\n",
    "arr = np.array([1, 2, 3, 4, 5])  # type) numpy.ndarray\n",
    "arr = np.array((1, 2, 3, 4, 5))  # Can also convert tuples and other array-like objects\n",
    "\n",
    "# 2-D Arrays\n",
    "arr2d = np.array([[1, 2, 3], [4, 5, 6]])\n",
    "# 3-d Arrays, and so on\n",
    "arr3d = np.array([[[1, 2, 3], [4, 5, 6]], [[1, 2, 3], [4, 5, 6]]])\n",
    "\n",
    "# Using the 'ndim' attribute, which returns dimensions of array\n",
    "print(arr3d.ndim)"
   ]
  },
  {
   "cell_type": "markdown",
   "metadata": {},
   "source": [
    "#### Accessing Numpy Arrays"
   ]
  },
  {
   "cell_type": "code",
   "execution_count": null,
   "metadata": {},
   "outputs": [],
   "source": [
    "# Refer using index number\n",
    "x = arr[0]\n",
    "x2 = arr2d[0, 1]  # Accessing 2-d array\n",
    "\n",
    "# Iterating through arrays\n",
    "for num in arr:\n",
    "    print(num)\n",
    "# 2-D Arrays\n",
    "for row in arr2d:\n",
    "    for col in arr2d:\n",
    "        print(col)\n",
    "for j in arr2d:\n",
    "    print(j)  # Prints entire row"
   ]
  },
  {
   "cell_type": "markdown",
   "metadata": {},
   "source": [
    "#### Sorting Numpy Arrays"
   ]
  },
  {
   "cell_type": "code",
   "execution_count": null,
   "metadata": {},
   "outputs": [],
   "source": [
    "print(np.sort(arr))  # Does not permanently sort it"
   ]
  },
  {
   "cell_type": "markdown",
   "metadata": {},
   "source": [
    "#### Calculation between two arrays"
   ]
  },
  {
   "cell_type": "code",
   "execution_count": null,
   "metadata": {},
   "outputs": [],
   "source": [
    "arr_x = np.array([1,2,3,4])\n",
    "arr_y = np.array([4,5,6,7])\n",
    "\n",
    "# Array + Array\n",
    "print(arr_x + arr_y)\n",
    "\n",
    "# Array + Number\n",
    "print(arr_x + 2)"
   ]
  },
  {
   "cell_type": "markdown",
   "metadata": {},
   "source": [
    "#### Element-wise multiplication"
   ]
  },
  {
   "cell_type": "code",
   "execution_count": null,
   "metadata": {},
   "outputs": [],
   "source": [
    "arr1d = [1, 2, 3]\n",
    "\n",
    "arr2d * arr1d  # Will broadcast 1d to 2d by vertically copying, \n",
    "                #then does element-wise multiplication\n",
    "\n",
    "arr2d * arr2d  # Element-wise multiplication"
   ]
  },
  {
   "cell_type": "markdown",
   "metadata": {},
   "source": [
    "#### Matrix Multiplication"
   ]
  },
  {
   "cell_type": "code",
   "execution_count": null,
   "metadata": {},
   "outputs": [],
   "source": [
    "matrix2d = np.mat(arr2d)  # Converts to numpy.matrix object\n",
    "\n",
    "matrix2d * matrix2d  # Matrix multiplication"
   ]
  },
  {
   "cell_type": "markdown",
   "metadata": {},
   "source": [
    "## Pandas"
   ]
  },
  {
   "cell_type": "markdown",
   "metadata": {},
   "source": [
    "#### Making a dataframe"
   ]
  },
  {
   "cell_type": "code",
   "execution_count": 2,
   "metadata": {},
   "outputs": [],
   "source": [
    "import pandas as pd\n",
    "# Sample Data\n",
    "football_data = { 'year': [2010, 2011, 2012, 2010, 2011, 2012, 2010, 2011, 2012],'team': ['FCBarcelona', 'FCBarcelona','FCBarcelona', 'RMadrid','RMadrid', 'RMadrid','ValenciaCF', 'ValenciaCF','ValenciaCF'],'wins':[30 , 28 , 32 , 29 , 32 , 26 , 21 , 17 , 19] ,'draws': [6 , 7 , 4 , 5 , 4 , 7 , 8 , 10 , 8] ,'losses': [2 , 3 , 2 , 4 , 2 , 5 , 9 , 11 , 11]}\n",
    "\n",
    "df = pd.DataFrame(football_data) # Takes in numerous datatypes, such as dictionaries"
   ]
  },
  {
   "cell_type": "markdown",
   "metadata": {},
   "source": [
    "#### Getting specific parts of dataframe"
   ]
  },
  {
   "cell_type": "code",
   "execution_count": 3,
   "metadata": {},
   "outputs": [
    {
     "data": {
      "text/html": [
       "<div>\n",
       "<style scoped>\n",
       "    .dataframe tbody tr th:only-of-type {\n",
       "        vertical-align: middle;\n",
       "    }\n",
       "\n",
       "    .dataframe tbody tr th {\n",
       "        vertical-align: top;\n",
       "    }\n",
       "\n",
       "    .dataframe thead th {\n",
       "        text-align: right;\n",
       "    }\n",
       "</style>\n",
       "<table border=\"1\" class=\"dataframe\">\n",
       "  <thead>\n",
       "    <tr style=\"text-align: right;\">\n",
       "      <th></th>\n",
       "      <th>team</th>\n",
       "      <th>wins</th>\n",
       "      <th>draws</th>\n",
       "    </tr>\n",
       "  </thead>\n",
       "  <tbody>\n",
       "    <tr>\n",
       "      <th>0</th>\n",
       "      <td>FCBarcelona</td>\n",
       "      <td>30</td>\n",
       "      <td>6</td>\n",
       "    </tr>\n",
       "    <tr>\n",
       "      <th>1</th>\n",
       "      <td>FCBarcelona</td>\n",
       "      <td>28</td>\n",
       "      <td>7</td>\n",
       "    </tr>\n",
       "    <tr>\n",
       "      <th>2</th>\n",
       "      <td>FCBarcelona</td>\n",
       "      <td>32</td>\n",
       "      <td>4</td>\n",
       "    </tr>\n",
       "    <tr>\n",
       "      <th>3</th>\n",
       "      <td>RMadrid</td>\n",
       "      <td>29</td>\n",
       "      <td>5</td>\n",
       "    </tr>\n",
       "    <tr>\n",
       "      <th>4</th>\n",
       "      <td>RMadrid</td>\n",
       "      <td>32</td>\n",
       "      <td>4</td>\n",
       "    </tr>\n",
       "    <tr>\n",
       "      <th>5</th>\n",
       "      <td>RMadrid</td>\n",
       "      <td>26</td>\n",
       "      <td>7</td>\n",
       "    </tr>\n",
       "    <tr>\n",
       "      <th>6</th>\n",
       "      <td>ValenciaCF</td>\n",
       "      <td>21</td>\n",
       "      <td>8</td>\n",
       "    </tr>\n",
       "    <tr>\n",
       "      <th>7</th>\n",
       "      <td>ValenciaCF</td>\n",
       "      <td>17</td>\n",
       "      <td>10</td>\n",
       "    </tr>\n",
       "    <tr>\n",
       "      <th>8</th>\n",
       "      <td>ValenciaCF</td>\n",
       "      <td>19</td>\n",
       "      <td>8</td>\n",
       "    </tr>\n",
       "  </tbody>\n",
       "</table>\n",
       "</div>"
      ],
      "text/plain": [
       "          team  wins  draws\n",
       "0  FCBarcelona    30      6\n",
       "1  FCBarcelona    28      7\n",
       "2  FCBarcelona    32      4\n",
       "3      RMadrid    29      5\n",
       "4      RMadrid    32      4\n",
       "5      RMadrid    26      7\n",
       "6   ValenciaCF    21      8\n",
       "7   ValenciaCF    17     10\n",
       "8   ValenciaCF    19      8"
      ]
     },
     "execution_count": 3,
     "metadata": {},
     "output_type": "execute_result"
    }
   ],
   "source": [
    "df.head(2)  # Returns top 2\n",
    "# Similar to Python list slicing, returns rows 2 to end\n",
    "df[2:]  \n",
    "# Get the whole 'team' column\n",
    "df['team']\n",
    "# Get multiple columns\n",
    "df[['team', 'wins', 'draws']]"
   ]
  },
  {
   "cell_type": "markdown",
   "metadata": {},
   "source": [
    "#### Adding a new column"
   ]
  },
  {
   "cell_type": "code",
   "execution_count": 6,
   "metadata": {},
   "outputs": [],
   "source": [
    "# Make a new column by referencing a unexisting column\n",
    "df['m_index'] = np.array(list(df.index)) + 1"
   ]
  },
  {
   "cell_type": "markdown",
   "metadata": {},
   "source": [
    "#### Basic Descriptions & Statistics"
   ]
  },
  {
   "cell_type": "code",
   "execution_count": 9,
   "metadata": {},
   "outputs": [
    {
     "name": "stdout",
     "output_type": "stream",
     "text": [
      "<class 'pandas.core.frame.DataFrame'>\n",
      "RangeIndex: 9 entries, 0 to 8\n",
      "Data columns (total 6 columns):\n",
      " #   Column   Non-Null Count  Dtype \n",
      "---  ------   --------------  ----- \n",
      " 0   year     9 non-null      int64 \n",
      " 1   team     9 non-null      object\n",
      " 2   wins     9 non-null      int64 \n",
      " 3   draws    9 non-null      int64 \n",
      " 4   losses   9 non-null      int64 \n",
      " 5   m_index  9 non-null      int32 \n",
      "dtypes: int32(1), int64(4), object(1)\n",
      "memory usage: 528.0+ bytes\n"
     ]
    }
   ],
   "source": [
    "# Runs basic statistics on the numerical columns in dataframe\n",
    "df.describe()\n",
    "# df.mean()\n",
    "df.info() # Returns concise summary of dataframe, displaying index range, \n",
    "          # column names, non-null counts, Dtypes, and Memory Usage"
   ]
  },
  {
   "cell_type": "markdown",
   "metadata": {},
   "source": [
    "#### Series vs. Dataframe Returns"
   ]
  },
  {
   "cell_type": "code",
   "execution_count": 10,
   "metadata": {},
   "outputs": [
    {
     "data": {
      "text/html": [
       "<div>\n",
       "<style scoped>\n",
       "    .dataframe tbody tr th:only-of-type {\n",
       "        vertical-align: middle;\n",
       "    }\n",
       "\n",
       "    .dataframe tbody tr th {\n",
       "        vertical-align: top;\n",
       "    }\n",
       "\n",
       "    .dataframe thead th {\n",
       "        text-align: right;\n",
       "    }\n",
       "</style>\n",
       "<table border=\"1\" class=\"dataframe\">\n",
       "  <thead>\n",
       "    <tr style=\"text-align: right;\">\n",
       "      <th></th>\n",
       "      <th>wins</th>\n",
       "    </tr>\n",
       "  </thead>\n",
       "  <tbody>\n",
       "    <tr>\n",
       "      <th>0</th>\n",
       "      <td>30</td>\n",
       "    </tr>\n",
       "    <tr>\n",
       "      <th>1</th>\n",
       "      <td>28</td>\n",
       "    </tr>\n",
       "    <tr>\n",
       "      <th>2</th>\n",
       "      <td>32</td>\n",
       "    </tr>\n",
       "    <tr>\n",
       "      <th>3</th>\n",
       "      <td>29</td>\n",
       "    </tr>\n",
       "    <tr>\n",
       "      <th>4</th>\n",
       "      <td>32</td>\n",
       "    </tr>\n",
       "    <tr>\n",
       "      <th>5</th>\n",
       "      <td>26</td>\n",
       "    </tr>\n",
       "    <tr>\n",
       "      <th>6</th>\n",
       "      <td>21</td>\n",
       "    </tr>\n",
       "    <tr>\n",
       "      <th>7</th>\n",
       "      <td>17</td>\n",
       "    </tr>\n",
       "    <tr>\n",
       "      <th>8</th>\n",
       "      <td>19</td>\n",
       "    </tr>\n",
       "  </tbody>\n",
       "</table>\n",
       "</div>"
      ],
      "text/plain": [
       "   wins\n",
       "0    30\n",
       "1    28\n",
       "2    32\n",
       "3    29\n",
       "4    32\n",
       "5    26\n",
       "6    21\n",
       "7    17\n",
       "8    19"
      ]
     },
     "execution_count": 10,
     "metadata": {},
     "output_type": "execute_result"
    }
   ],
   "source": [
    "df['wins']  # Returns a series\n",
    "df[['wins']]  # Returns a dataframe"
   ]
  },
  {
   "cell_type": "markdown",
   "metadata": {},
   "source": [
    "#### Extracting data"
   ]
  },
  {
   "cell_type": "code",
   "execution_count": 11,
   "metadata": {},
   "outputs": [],
   "source": [
    "# Extract data, returning True or False (element-wise testing)\n",
    "df['team'] == 'RMadrid'\n",
    "\n",
    "# Selecting rows using boolean indexing\n",
    "df[ (df['team'] == 'RMadrid') | (df['wins'] > 10) ]\n",
    "\n",
    "# Example of getting specific rows w/ boolean indexing\n",
    "fcb_vcf_wins = df[(df['team'] == 'FCBarcelona') \\\n",
    "                           | (df['team'] == 'ValenciaCF')][['year','team','wins']]"
   ]
  },
  {
   "cell_type": "markdown",
   "metadata": {},
   "source": [
    "#### Built-in Pandas plotting"
   ]
  },
  {
   "cell_type": "code",
   "execution_count": 12,
   "metadata": {},
   "outputs": [
    {
     "data": {
      "text/plain": [
       "<Axes: title={'center': 'FC Barcelona Wins from 2010 to 2012'}, xlabel='Year', ylabel='Wins'>"
      ]
     },
     "execution_count": 12,
     "metadata": {},
     "output_type": "execute_result"
    },
    {
     "data": {
      "image/png": "[encoded data removed]",
      "text/plain": [
       "<Figure size 640x480 with 1 Axes>"
      ]
     },
     "metadata": {},
     "output_type": "display_data"
    }
   ],
   "source": [
    "# Example\n",
    "df[df['team'] == 'FCBarcelona'].plot.bar(x='year', y='wins', \n",
    "   color=['b', 'r', 'g'], \n",
    "   title='FC Barcelona Wins from 2010 to 2012',\n",
    "   xlabel='Year',\n",
    "   ylabel='Wins'\n",
    "   )"
   ]
  },
  {
   "cell_type": "markdown",
   "metadata": {},
   "source": [
    "#### Pandas .pivot() method"
   ]
  },
  {
   "cell_type": "code",
   "execution_count": 13,
   "metadata": {},
   "outputs": [],
   "source": [
    "# Reshapes the pandas dataframe\n",
    "fcb_vcf_wins_pivoted = fcb_vcf_wins.pivot(index='year', columns='team', values='wins')"
   ]
  },
  {
   "cell_type": "markdown",
   "metadata": {},
   "source": [
    "### Pandas groupby() method"
   ]
  },
  {
   "cell_type": "code",
   "execution_count": 19,
   "metadata": {},
   "outputs": [
    {
     "name": "stdout",
     "output_type": "stream",
     "text": [
      "                  year  draws  losses  m_index\n",
      "team        wins                              \n",
      "FCBarcelona 28    2011      7       3        2\n",
      "            30    2010      6       2        1\n",
      "            32    2012      4       2        3\n",
      "RMadrid     26    2012      7       5        6\n",
      "            29    2010      5       4        4\n",
      "            32    2011      4       2        5\n",
      "ValenciaCF  17    2011     10      11        8\n",
      "            19    2012      8      11        9\n",
      "            21    2010      8       9        7\n"
     ]
    }
   ],
   "source": [
    "team_wins = df.groupby(['team', 'wins']).sum()\n",
    "print(team_wins)"
   ]
  }
 ],
 "metadata": {
  "kernelspec": {
   "display_name": "base",
   "language": "python",
   "name": "python3"
  },
  "language_info": {
   "codemirror_mode": {
    "name": "ipython",
    "version": 3
   },
   "file_extension": ".py",
   "mimetype": "text/x-python",
   "name": "python",
   "nbconvert_exporter": "python",
   "pygments_lexer": "ipython3",
   "version": "3.11.7"
  }
 },
 "nbformat": 4,
 "nbformat_minor": 2
}
