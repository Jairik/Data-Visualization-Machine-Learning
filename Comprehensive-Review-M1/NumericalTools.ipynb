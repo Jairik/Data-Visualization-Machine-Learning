{
 "cells": [
  {
   "cell_type": "markdown",
   "metadata": {},
   "source": [
    "# Numerical Tools\n",
    "Covers: Numpy & Pandas "
   ]
  },
  {
   "cell_type": "markdown",
   "metadata": {},
   "source": [
    "## Numpy"
   ]
  },
  {
   "cell_type": "markdown",
   "metadata": {},
   "source": [
    "#### Creating Numpy Arrays"
   ]
  },
  {
   "cell_type": "code",
   "execution_count": null,
   "metadata": {},
   "outputs": [],
   "source": [
    "import numpy as np\n",
    "\n",
    "# Create special Numpy array (more efficient & faster)\n",
    "arr = np.array([1, 2, 3, 4, 5])  # type) numpy.ndarray\n",
    "arr = np.array((1, 2, 3, 4, 5))  # Can also convert tuples and other array-like objects\n",
    "\n",
    "# 2-D Arrays\n",
    "arr2d = np.array([[1, 2, 3], [4, 5, 6]])\n",
    "# 3-d Arrays, and so on\n",
    "arr3d = np.array([[[1, 2, 3], [4, 5, 6]], [[1, 2, 3], [4, 5, 6]]])\n",
    "\n",
    "# Using the 'ndim' attribute, which returns dimensions of array\n",
    "print(arr3d.ndim)"
   ]
  },
  {
   "cell_type": "markdown",
   "metadata": {},
   "source": [
    "#### Accessing Numpy Arrays"
   ]
  },
  {
   "cell_type": "code",
   "execution_count": null,
   "metadata": {},
   "outputs": [],
   "source": [
    "# Refer using index number\n",
    "x = arr[0]\n",
    "x2 = arr2d[0, 1]  # Accessing 2-d array\n",
    "\n",
    "# Iterating through arrays\n",
    "for num in arr:\n",
    "    print(num)\n",
    "# 2-D Arrays\n",
    "for row in arr2d:\n",
    "    for col in arr2d:\n",
    "        print(col)\n",
    "for j in arr2d:\n",
    "    print(j)  # Prints entire row"
   ]
  },
  {
   "cell_type": "markdown",
   "metadata": {},
   "source": [
    "#### Sorting Numpy Arrays"
   ]
  },
  {
   "cell_type": "code",
   "execution_count": null,
   "metadata": {},
   "outputs": [],
   "source": [
    "print(np.sort(arr))  # Does not permanently sort it"
   ]
  },
  {
   "cell_type": "markdown",
   "metadata": {},
   "source": [
    "#### Calculation between two arrays"
   ]
  },
  {
   "cell_type": "code",
   "execution_count": null,
   "metadata": {},
   "outputs": [],
   "source": [
    "arr_x = np.array([1,2,3,4])\n",
    "arr_y = np.array([4,5,6,7])\n",
    "\n",
    "# Array + Array\n",
    "print(arr_x + arr_y)\n",
    "\n",
    "# Array + Number\n",
    "print(arr_x + 2)"
   ]
  },
  {
   "cell_type": "markdown",
   "metadata": {},
   "source": [
    "#### Element-wise multiplication"
   ]
  },
  {
   "cell_type": "code",
   "execution_count": null,
   "metadata": {},
   "outputs": [],
   "source": [
    "arr1d = [1, 2, 3]\n",
    "\n",
    "arr2d * arr1d  # Will broadcast 1d to 2d by vertically copying, \n",
    "                #then does element-wise multiplication\n",
    "\n",
    "arr2d * arr2d  # Element-wise multiplication"
   ]
  },
  {
   "cell_type": "markdown",
   "metadata": {},
   "source": [
    "#### Matrix Multiplication"
   ]
  },
  {
   "cell_type": "code",
   "execution_count": null,
   "metadata": {},
   "outputs": [],
   "source": [
    "matrix2d = np.mat(arr2d)  # Converts to numpy.matrix object\n",
    "\n",
    "matrix2d * matrix2d  # Matrix multiplication"
   ]
  },
  {
   "cell_type": "markdown",
   "metadata": {},
   "source": [
    "## Pandas"
   ]
  },
  {
   "cell_type": "markdown",
   "metadata": {},
   "source": [
    "#### Making a dataframe"
   ]
  },
  {
   "cell_type": "code",
   "execution_count": null,
   "metadata": {},
   "outputs": [],
   "source": [
    "import pandas as pd\n",
    "# Sample Data\n",
    "football_data = { 'year': [2010, 2011, 2012, 2010, 2011, 2012, 2010, 2011, 2012],'team': ['FCBarcelona', 'FCBarcelona','FCBarcelona', 'RMadrid','RMadrid', 'RMadrid','ValenciaCF', 'ValenciaCF','ValenciaCF'],'wins':[30 , 28 , 32 , 29 , 32 , 26 , 21 , 17 , 19] ,'draws': [6 , 7 , 4 , 5 , 4 , 7 , 8 , 10 , 8] ,'losses': [2 , 3 , 2 , 4 , 2 , 5 , 9 , 11 , 11]}\n",
    "\n",
    "df = pd.DataFrame(football_data) # Takes in numerous datatypes, such as dictionaries"
   ]
  },
  {
   "cell_type": "markdown",
   "metadata": {},
   "source": [
    "#### Getting specific parts of dataframe"
   ]
  },
  {
   "cell_type": "code",
   "execution_count": null,
   "metadata": {},
   "outputs": [],
   "source": [
    "df.head(2)  # Returns top 2\n",
    "# Similar to Python list slicing, returns rows 2 to end\n",
    "df[2:]  \n",
    "# Get the whole 'team' column\n",
    "df['team']\n",
    "# Get multiple columns\n",
    "df[['team', 'wins', 'draws']]"
   ]
  },
  {
   "cell_type": "markdown",
   "metadata": {},
   "source": [
    "#### Adding a new column"
   ]
  },
  {
   "cell_type": "code",
   "execution_count": null,
   "metadata": {},
   "outputs": [],
   "source": [
    "# Make a new column by referencing a unexisting column\n",
    "df['m_index'] = np.array(list(df.index)) + 1"
   ]
  },
  {
   "cell_type": "markdown",
   "metadata": {},
   "source": [
    "#### Basic Descriptions & Statistics"
   ]
  },
  {
   "cell_type": "code",
   "execution_count": null,
   "metadata": {},
   "outputs": [],
   "source": [
    "# Runs basic statistics on the numerical columns in dataframe\n",
    "df.describe()\n",
    "df.mean()\n",
    "df.info() # Returns concise summary of dataframe, displaying index range, \n",
    "          # column names, non-null counts, Dtypes, and Memory Usage"
   ]
  },
  {
   "cell_type": "markdown",
   "metadata": {},
   "source": [
    "#### Series vs. Dataframe Returns"
   ]
  },
  {
   "cell_type": "code",
   "execution_count": null,
   "metadata": {},
   "outputs": [],
   "source": [
    "df['wins']  # Returns a series\n",
    "df[['wins']]  # Returns a dataframe"
   ]
  },
  {
   "cell_type": "markdown",
   "metadata": {},
   "source": [
    "#### Extracting data"
   ]
  },
  {
   "cell_type": "code",
   "execution_count": null,
   "metadata": {},
   "outputs": [],
   "source": [
    "# Extract data, returning True or False (element-wise testing)\n",
    "df['team'] == 'RMadrid'\n",
    "\n",
    "# Selecting rows using boolean indexing\n",
    "df[ (df['team'] == 'RMadrid') | (df['wins'] > 10) ]\n",
    "\n",
    "# Example of getting specific rows w/ boolean indexing\n",
    "fcb_vcf_wins = df[(df['team'] == 'FCBarcelona') \\\n",
    "                           | (df['team'] == 'ValenciaCF')][['year','team','wins']]"
   ]
  },
  {
   "cell_type": "markdown",
   "metadata": {},
   "source": [
    "#### Built-in Pandas plotting"
   ]
  },
  {
   "cell_type": "code",
   "execution_count": null,
   "metadata": {},
   "outputs": [],
   "source": [
    "# Example\n",
    "df[df['team'] == 'FCBarcelona'].plot.bar(x='year', y='wins', \n",
    "   color=['b', 'r', 'g'], \n",
    "   title='FC Barcelona Wins from 2010 to 2012',\n",
    "   xlabel='Year',\n",
    "   ylabel='Wins'\n",
    "   )"
   ]
  },
  {
   "cell_type": "markdown",
   "metadata": {},
   "source": [
    "#### Pandas .pivot() method"
   ]
  },
  {
   "cell_type": "code",
   "execution_count": null,
   "metadata": {},
   "outputs": [],
   "source": [
    "# Reshapes the pandas dataframe\n",
    "fcb_vcf_wins_pivoted = fcb_vcf_wins.pivot(index='year', columns='team', values='wins')"
   ]
  }
 ],
 "metadata": {
  "kernelspec": {
   "display_name": "base",
   "language": "python",
   "name": "python3"
  },
  "language_info": {
   "codemirror_mode": {
    "name": "ipython",
    "version": 3
   },
   "file_extension": ".py",
   "mimetype": "text/x-python",
   "name": "python",
   "nbconvert_exporter": "python",
   "pygments_lexer": "ipython3",
   "version": "3.11.7"
  }
 },
 "nbformat": 4,
 "nbformat_minor": 2
}
