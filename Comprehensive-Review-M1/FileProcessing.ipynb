{
 "cells": [
  {
   "cell_type": "markdown",
   "metadata": {},
   "source": [
    "# File Processing Review\n",
    "Covers: Reading/writing file, split(), exceptions"
   ]
  },
  {
   "cell_type": "markdown",
   "metadata": {},
   "source": [
    "## Opening a file\n",
    "- r: Opens a file for **reading only** (*by default*)\n",
    "- r+: Opens a file for **both reading and writing**\n",
    "- w: Opens a file for **writing only**\n",
    "- w+: Open a file for **writing and reading**\n",
    "- a: Opens a file for **appending**\n",
    "- a+: Opens a file for both **appending and reading**"
   ]
  },
  {
   "cell_type": "code",
   "execution_count": null,
   "metadata": {},
   "outputs": [],
   "source": [
    "# Open the file\n",
    "my_file = open('test.txt', 'r')"
   ]
  },
  {
   "cell_type": "markdown",
   "metadata": {},
   "source": [
    "## Reading + Closing a File"
   ]
  },
  {
   "cell_type": "code",
   "execution_count": null,
   "metadata": {},
   "outputs": [],
   "source": [
    "# Read the entire document\n",
    "content = my_file.read()\n",
    "# Read line by line\n",
    "content = my_file.readline()\n",
    "# Close the file\n",
    "my_file.close()"
   ]
  },
  {
   "cell_type": "markdown",
   "metadata": {},
   "source": [
    "## Split Function\n",
    "split(seperator) - returns a list of strings after breaking by specified seperator. If seperator not specific, consecutive whitespace (space, \\n, \\t)"
   ]
  },
  {
   "cell_type": "code",
   "execution_count": null,
   "metadata": {},
   "outputs": [],
   "source": [
    "x = content.split()\n",
    "y = content.split(',', 2)  # Limit the number of splits"
   ]
  },
  {
   "cell_type": "markdown",
   "metadata": {},
   "source": [
    "## Writing to a file"
   ]
  },
  {
   "cell_type": "code",
   "execution_count": null,
   "metadata": {},
   "outputs": [],
   "source": [
    "#NOTE: Must open the file with appropriate mode to write\n",
    "new_file = open('new_file.txt', 'w')\n",
    "new_file.write(str(9+10) + '\\n')  # Can only write strings\n",
    "new_file.closes()"
   ]
  },
  {
   "cell_type": "code",
   "execution_count": null,
   "metadata": {},
   "outputs": [],
   "source": [
    "# ALTERNATIVE METHOD (good practice)\n",
    "with open('new_file.txt', 'w') as new_file:\n",
    "    for i in range(100):\n",
    "        new_file.write(str(i) + ', ')"
   ]
  },
  {
   "cell_type": "markdown",
   "metadata": {},
   "source": [
    "##### Using print() function to write to a file"
   ]
  },
  {
   "cell_type": "code",
   "execution_count": null,
   "metadata": {},
   "outputs": [],
   "source": [
    "print(9+10, file=new_file)  # No need to convert to str"
   ]
  },
  {
   "cell_type": "markdown",
   "metadata": {},
   "source": [
    "## Exceptions for file"
   ]
  },
  {
   "cell_type": "code",
   "execution_count": null,
   "metadata": {},
   "outputs": [],
   "source": [
    "# Use try & except\n",
    "try: \n",
    "    f = open('invalid.txt', 'r')\n",
    "except:\n",
    "    print(\"This is the except message\")\n",
    "    \n",
    "# Using try & except with specified error types\n",
    "try:\n",
    "    f = open('invalid.txt', 'r')\n",
    "except FileNotFoundError:\n",
    "    print(\"File Not Found Error Message\")\n",
    "except IndexError:\n",
    "    print(\"Index Error Message\")\n",
    "except:  # Not needed, but could use\n",
    "    print(\"Generic Except Message\")"
   ]
  },
  {
   "cell_type": "markdown",
   "metadata": {},
   "source": [
    "## Application Example\n",
    "Creating a dictionary that uses each word as a key and the appearance frequency of word as value"
   ]
  },
  {
   "cell_type": "code",
   "execution_count": null,
   "metadata": {},
   "outputs": [],
   "source": [
    "word_counts = {}\n",
    "with open('Example.txt', 'r') as file:\n",
    "    for line in file:\n",
    "        tokens = line.upper().replace(',','').replace(';','').replace('(','').replace(')','')\\\n",
    "        .replace('!','').replace('?','').replace('.','').split()\n",
    "        for word in tokens:\n",
    "            try:\n",
    "                word_counts[word] += 1\n",
    "            except:  # If it does not exist\n",
    "                word_counts[word] = 1"
   ]
  }
 ],
 "metadata": {
  "kernelspec": {
   "display_name": "base",
   "language": "python",
   "name": "python3"
  },
  "language_info": {
   "codemirror_mode": {
    "name": "ipython",
    "version": 3
   },
   "file_extension": ".py",
   "mimetype": "text/x-python",
   "name": "python",
   "nbconvert_exporter": "python",
   "pygments_lexer": "ipython3",
   "version": "3.11.7"
  }
 },
 "nbformat": 4,
 "nbformat_minor": 2
}
