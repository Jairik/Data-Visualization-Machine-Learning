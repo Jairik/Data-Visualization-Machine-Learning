{
 "cells": [
  {
   "cell_type": "markdown",
   "metadata": {},
   "source": [
    "# One Dimensional Statistics"
   ]
  },
  {
   "cell_type": "code",
   "execution_count": 1,
   "metadata": {},
   "outputs": [],
   "source": [
    "import numpy as np\n",
    "import math\n",
    "from collections import Counter\n",
    "# Example dataset\n",
    "x = num_friends = [100.0,49,41,40,25,21,21,19,19,18,18,16,15,15,15,15,14,14,13,13,13,13,12,12,11,10,10,10,10,10,10,10,10,10,10,10,10,10,10,10,9,9,9,9,9,9,9,9,9,9,9,9,9,9,9,9,9,9,8,8,8,8,8,8,8,8,8,8,8,8,8,7,7,7,7,7,7,7,7,7,7,7,7,7,7,7,6,6,6,6,6,6,6,6,6,6,6,6,6,6,6,6,6,6,6,6,6,6,5,5,5,5,5,5,5,5,5,5,5,5,5,5,5,5,5,4,4,4,4,4,4,4,4,4,4,4,4,4,4,4,4,4,4,4,4,3,3,3,3,3,3,3,3,3,3,3,3,3,3,3,3,3,3,3,3,2,2,2,2,2,2,2,2,2,2,2,2,2,2,2,2,2,1,1,1,1,1,1,1,1,1,1,1,1,1,1,1,1,1,1,1,1,1,1]"
   ]
  },
  {
   "cell_type": "markdown",
   "metadata": {},
   "source": [
    "#### Mean & Median"
   ]
  },
  {
   "cell_type": "code",
   "execution_count": 4,
   "metadata": {},
   "outputs": [
    {
     "name": "stdout",
     "output_type": "stream",
     "text": [
      "7.333333333333333\n",
      "6.0\n"
     ]
    }
   ],
   "source": [
    "\n",
    "print(np.mean(x))\n",
    "print(np.median(x))"
   ]
  },
  {
   "cell_type": "markdown",
   "metadata": {},
   "source": [
    "#### Quantile"
   ]
  },
  {
   "cell_type": "code",
   "execution_count": 6,
   "metadata": {},
   "outputs": [
    {
     "name": "stdout",
     "output_type": "stream",
     "text": [
      "3.0\n",
      "9.0\n",
      "6.0\n"
     ]
    }
   ],
   "source": [
    "print(np.quantile(x, .25))  # Print the 25th quantile\n",
    "print(np.quantile(x, .8))  # Print the 80th quantile\n",
    "\n",
    "# Print the interquartile range between two quantiles\n",
    "print((np.quantile(x, .75) - np.quantile(x, .25)))"
   ]
  },
  {
   "cell_type": "markdown",
   "metadata": {},
   "source": [
    "#### Range (Spread)"
   ]
  },
  {
   "cell_type": "code",
   "execution_count": 8,
   "metadata": {},
   "outputs": [
    {
     "name": "stdout",
     "output_type": "stream",
     "text": [
      "99.0\n"
     ]
    }
   ],
   "source": [
    "print((max(x) - min(x)))"
   ]
  },
  {
   "cell_type": "markdown",
   "metadata": {},
   "source": [
    "### Variance & Standard Deviation"
   ]
  },
  {
   "cell_type": "code",
   "execution_count": 9,
   "metadata": {},
   "outputs": [
    {
     "name": "stdout",
     "output_type": "stream",
     "text": [
      "81.14379084967321\n"
     ]
    }
   ],
   "source": [
    "# Variance\n",
    "print(np.var(x))\n",
    "# Standard Deviation\n",
    "print(np.std(x))"
   ]
  },
  {
   "cell_type": "markdown",
   "metadata": {},
   "source": [
    "## Correlation (and Covariance)\n",
    "- Correlation: Standardized, between -1 and 1. Helpful for **direction** and **strength** of relationship.\n",
    "- Covariance: Measures how much they differ in units, Helpful *only* for **direction**.\n",
    "\n",
    "Interpretation:\n",
    "- x > 0: Positive Linear Relationship (both variables move together)\n",
    "- x = 0: No Linear Relationship between variables\n",
    "- x < 0: Negative Linear Relation (as one variable increases, the other decreases)"
   ]
  },
  {
   "cell_type": "code",
   "execution_count": null,
   "metadata": {},
   "outputs": [],
   "source": [
    "# NOTE: Could also use statistics module\n",
    "# Sample Data\n",
    "A = [3, 6, 4]\n",
    "B = [7, 12, -9]\n",
    "# Print the covariance between A & B\n",
    "print(np.cov(A, B))\n",
    "\n",
    "# Print the correlation (coefficient) between A & B\n",
    "print(np.corrcoef(A, B))\n",
    "\n",
    "# Find the variance between one variable\n",
    "print(np.var(A))"
   ]
  },
  {
   "cell_type": "markdown",
   "metadata": {},
   "source": [
    "#### Pandas transpose function"
   ]
  },
  {
   "cell_type": "code",
   "execution_count": 12,
   "metadata": {},
   "outputs": [
    {
     "data": {
      "text/html": [
       "<div>\n",
       "<style scoped>\n",
       "    .dataframe tbody tr th:only-of-type {\n",
       "        vertical-align: middle;\n",
       "    }\n",
       "\n",
       "    .dataframe tbody tr th {\n",
       "        vertical-align: top;\n",
       "    }\n",
       "\n",
       "    .dataframe thead th {\n",
       "        text-align: right;\n",
       "    }\n",
       "</style>\n",
       "<table border=\"1\" class=\"dataframe\">\n",
       "  <thead>\n",
       "    <tr style=\"text-align: right;\">\n",
       "      <th></th>\n",
       "      <th>0</th>\n",
       "      <th>1</th>\n",
       "      <th>2</th>\n",
       "      <th>3</th>\n",
       "      <th>4</th>\n",
       "      <th>5</th>\n",
       "      <th>6</th>\n",
       "      <th>7</th>\n",
       "      <th>8</th>\n",
       "    </tr>\n",
       "  </thead>\n",
       "  <tbody>\n",
       "    <tr>\n",
       "      <th>year</th>\n",
       "      <td>2010</td>\n",
       "      <td>2011</td>\n",
       "      <td>2012</td>\n",
       "      <td>2010</td>\n",
       "      <td>2011</td>\n",
       "      <td>2012</td>\n",
       "      <td>2010</td>\n",
       "      <td>2011</td>\n",
       "      <td>2012</td>\n",
       "    </tr>\n",
       "    <tr>\n",
       "      <th>team</th>\n",
       "      <td>FCBarcelona</td>\n",
       "      <td>FCBarcelona</td>\n",
       "      <td>FCBarcelona</td>\n",
       "      <td>RMadrid</td>\n",
       "      <td>RMadrid</td>\n",
       "      <td>RMadrid</td>\n",
       "      <td>ValenciaCF</td>\n",
       "      <td>ValenciaCF</td>\n",
       "      <td>ValenciaCF</td>\n",
       "    </tr>\n",
       "    <tr>\n",
       "      <th>wins</th>\n",
       "      <td>30</td>\n",
       "      <td>28</td>\n",
       "      <td>32</td>\n",
       "      <td>29</td>\n",
       "      <td>32</td>\n",
       "      <td>26</td>\n",
       "      <td>21</td>\n",
       "      <td>17</td>\n",
       "      <td>19</td>\n",
       "    </tr>\n",
       "    <tr>\n",
       "      <th>draws</th>\n",
       "      <td>6</td>\n",
       "      <td>7</td>\n",
       "      <td>4</td>\n",
       "      <td>5</td>\n",
       "      <td>4</td>\n",
       "      <td>7</td>\n",
       "      <td>8</td>\n",
       "      <td>10</td>\n",
       "      <td>8</td>\n",
       "    </tr>\n",
       "    <tr>\n",
       "      <th>losses</th>\n",
       "      <td>2</td>\n",
       "      <td>3</td>\n",
       "      <td>2</td>\n",
       "      <td>4</td>\n",
       "      <td>2</td>\n",
       "      <td>5</td>\n",
       "      <td>9</td>\n",
       "      <td>11</td>\n",
       "      <td>11</td>\n",
       "    </tr>\n",
       "  </tbody>\n",
       "</table>\n",
       "</div>"
      ],
      "text/plain": [
       "                  0            1            2        3        4        5  \\\n",
       "year           2010         2011         2012     2010     2011     2012   \n",
       "team    FCBarcelona  FCBarcelona  FCBarcelona  RMadrid  RMadrid  RMadrid   \n",
       "wins             30           28           32       29       32       26   \n",
       "draws             6            7            4        5        4        7   \n",
       "losses            2            3            2        4        2        5   \n",
       "\n",
       "                 6           7           8  \n",
       "year          2010        2011        2012  \n",
       "team    ValenciaCF  ValenciaCF  ValenciaCF  \n",
       "wins            21          17          19  \n",
       "draws            8          10           8  \n",
       "losses           9          11          11  "
      ]
     },
     "execution_count": 12,
     "metadata": {},
     "output_type": "execute_result"
    }
   ],
   "source": [
    "import pandas as pd\n",
    "# Creating sample dataset\n",
    "df = pd.DataFrame({ 'year': [2010, 2011, 2012, 2010, 2011, 2012, 2010, 2011, 2012],'team': ['FCBarcelona', 'FCBarcelona','FCBarcelona', 'RMadrid','RMadrid', 'RMadrid','ValenciaCF', 'ValenciaCF','ValenciaCF'],'wins':[30 , 28 , 32 , 29 , 32 , 26 , 21 , 17 , 19] ,'draws': [6 , 7 , 4 , 5 , 4 , 7 , 8 , 10 , 8] ,'losses': [2 , 3 , 2 , 4 , 2 , 5 , 9 , 11 , 11]})\n",
    "# Transposing (swapping rows & columns)\n",
    "df.transpose()  # Alternatively, df.T"
   ]
  },
  {
   "cell_type": "markdown",
   "metadata": {},
   "source": [
    "##### For detailed examples, see Module4_1 Lecture Notes"
   ]
  }
 ],
 "metadata": {
  "kernelspec": {
   "display_name": "base",
   "language": "python",
   "name": "python3"
  },
  "language_info": {
   "codemirror_mode": {
    "name": "ipython",
    "version": 3
   },
   "file_extension": ".py",
   "mimetype": "text/x-python",
   "name": "python",
   "nbconvert_exporter": "python",
   "pygments_lexer": "ipython3",
   "version": "3.11.7"
  }
 },
 "nbformat": 4,
 "nbformat_minor": 2
}
