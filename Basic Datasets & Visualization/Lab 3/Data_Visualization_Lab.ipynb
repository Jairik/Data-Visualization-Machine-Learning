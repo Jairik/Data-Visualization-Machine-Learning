{
 "cells": [
  {
   "cell_type": "markdown",
   "metadata": {},
   "source": [
    "# COSC311 Lab 3\n",
    "##### JJ McCauley\n",
    "Datasets: Bajaia_Region.csv, Sidi-Bel_Abbes_Region.csv"
   ]
  },
  {
   "cell_type": "code",
   "execution_count": 40,
   "metadata": {},
   "outputs": [],
   "source": [
    "'''Imports & Such'''\n",
    "import pandas as pd\n",
    "import numpy as np\n",
    "import seaborn as sb\n",
    "from collections import Counter\n",
    "import matplotlib.pyplot as plt\n",
    "import math\n",
    "\n",
    "'''Loading in datasets'''\n",
    "b = pd.read_csv(\"Bejaia_Region.csv\")\n",
    "s = pd.read_csv(\"Sidi-Bel_Abbes_Region.csv\", sep=\",\", on_bad_lines='skip')"
   ]
  },
  {
   "cell_type": "markdown",
   "metadata": {},
   "source": [
    "## Task 1\n",
    "Using Bejaia dataset, calculate mean values of Temperature, RH, Ws, and Rain for 'fire' and 'not fire' classes"
   ]
  },
  {
   "cell_type": "code",
   "execution_count": 41,
   "metadata": {},
   "outputs": [
    {
     "name": "stdout",
     "output_type": "stream",
     "text": [
      "Means:\n",
      "           Temperature     RH    Ws   Rain\n",
      "Fire             33.0  69.75  17.5   0.00\n",
      "Not Fire         25.0  83.00  18.0  13.45\n"
     ]
    },
    {
     "data": {
      "text/plain": [
       "Text(0.5, 1.0, 'Mean values of Temperature, RH, Ws, and Rain for Fire and No Fire')"
      ]
     },
     "execution_count": 41,
     "metadata": {},
     "output_type": "execute_result"
    },
    {
     "data": {
      "image/png": "[encoded data removed]",
      "text/plain": [
       "<Figure size 640x480 with 1 Axes>"
      ]
     },
     "metadata": {},
     "output_type": "display_data"
    }
   ],
   "source": [
    "b_means_fire = b[b['Classes'] == 'fire'][['Temperature', 'RH', 'Ws', 'Rain']].mean()\n",
    "b_means_notfire = b[b['Classes'] == 'not fire'][['Temperature', 'RH', 'Ws', 'Rain']].mean()\n",
    "b_means = pd.DataFrame({'Fire': b_means_fire, 'Not Fire': b_means_notfire})  #Combine into one dataframe\n",
    "\n",
    "b_means = b_means.T # Transpose for better plotting\n",
    "\n",
    "# Print the means\n",
    "print(\"Means:\\n\", b_means)\n",
    "\n",
    "b_means.plot(kind='bar')\n",
    "plt.xlabel('Class')\n",
    "plt.ylabel('Mean Value')\n",
    "plt.title(\"Mean values of Temperature, RH, Ws, and Rain for Fire and No Fire\")\n"
   ]
  },
  {
   "cell_type": "markdown",
   "metadata": {},
   "source": [
    "## Task 2\n",
    "Using the \" Sidi-Bel Abbes Region Dataset\", calculate and show the median values of four\n",
    "attributes (\"FFMC\", \"DMC\", \"DC\" and \"ISI\", respectively) "
   ]
  },
  {
   "cell_type": "code",
   "execution_count": 45,
   "metadata": {},
   "outputs": [
    {
     "name": "stdout",
     "output_type": "stream",
     "text": [
      "FFMC Median: 84.7\n",
      "DMC Median: 13.3\n",
      "DC Median: 32.1\n",
      "ISI Median: 4.5\n"
     ]
    }
   ],
   "source": [
    "# Calculating the median values\n",
    "s_FFMC_median = s['FFMC'].median()\n",
    "s_DMC_median = s['DMC'].median()\n",
    "s_DC_median = s['DC'].median()\n",
    "s_ISI_median = s['ISI'].median()\n",
    "\n",
    "# Printing the median values\n",
    "print('FFMC Median:', s_FFMC_median)\n",
    "print('DMC Median:', s_DMC_median)\n",
    "print('DC Median:', s_DC_median)\n",
    "print(\"ISI Median:\", s_ISI_median)"
   ]
  },
  {
   "cell_type": "markdown",
   "metadata": {},
   "source": [
    "## Task 3\n",
    "Using the \"Bejaia Region Dataset\", calculate and show the 25-percent, 60-percent, and 75-\n",
    "percent quantiles of four attributes (\"Temperature\", \"RH\", \"Ws\" and \"Rain\", respectively)"
   ]
  },
  {
   "cell_type": "code",
   "execution_count": 47,
   "metadata": {},
   "outputs": [
    {
     "name": "stdout",
     "output_type": "stream",
     "text": [
      "      Temperature     RH    Ws  Rain\n",
      "0.25         29.0  60.00  14.0   0.0\n",
      "0.60         32.0  73.00  17.0   0.1\n",
      "0.75         34.0  77.75  18.0   0.5\n"
     ]
    }
   ],
   "source": [
    "# Declaring quantiles that we are looking for\n",
    "quantiles = [0.25, 0.6, 0.75]\n",
    "\n",
    "# Applying these quantiles to the df\n",
    "result = b[['Temperature', 'RH', 'Ws', 'Rain']].quantile(quantiles)  # Credit to Pandas documentation on qualtiles\n",
    "\n",
    "print(\"Qualtiles for Temperature, RH, Ws, and Rain:\\n\", result) \n"
   ]
  },
  {
   "cell_type": "markdown",
   "metadata": {},
   "source": [
    "## Task 4\n",
    "Using the \"Sidi-Bel Abbes Region Dataset\", calculate and show the standard deviation\n",
    "values of four attributes (\"Temperature\", \" Rain\", \"BUI\" and \"FWI\", respectively)"
   ]
  },
  {
   "cell_type": "code",
   "execution_count": 51,
   "metadata": {},
   "outputs": [
    {
     "name": "stdout",
     "output_type": "stream",
     "text": [
      "Standard Deviation:\n",
      " Temperature     3.674103\n",
      "Rain            1.492296\n",
      "BUI            13.919595\n",
      "FWI             8.169444\n",
      "dtype: float64\n"
     ]
    }
   ],
   "source": [
    "result = s[['Temperature', 'Rain', 'BUI', 'FWI']].std()\n",
    "\n",
    "print(\"Standard Deviation:\\n\", result)"
   ]
  },
  {
   "cell_type": "markdown",
   "metadata": {},
   "source": [
    "## Task 5\n",
    "Using the \"Bejaia Region Dataset\", calculate and show the “correlation coefficient” \n",
    "between “RH” and each of the following attributes (\"Temperature\", \"Ws\", \"Rain\", \n",
    "\"FFMC\", \"DMC\", \"DC\", \"ISI\", \"BUI\" and \"FWI\"), respectively. Then, describe what attribute had the strongest positive and negative correlation to the attribute 'RH'"
   ]
  },
  {
   "cell_type": "code",
   "execution_count": 64,
   "metadata": {},
   "outputs": [
    {
     "name": "stdout",
     "output_type": "stream",
     "text": [
      "Pearson Correlation Coefficients:\n",
      "Ws:  \t 0.24577445895806885\n",
      "Rain:\t 0.32916261703566424\n",
      "FFMC:\t -0.6531529118901975\n",
      "DMC: \t -0.34708013592219356\n",
      "DC:  \t -0.31427122383070866\n",
      "ISI: \t -0.5864099949298507\n",
      "BUI: \t -0.3382326363037557\n",
      "FWI: \t -0.4760673581458338\n"
     ]
    }
   ],
   "source": [
    "# Find correlations for all columns\n",
    "correlation_Ws = b['RH'].corr(b['Ws'])\n",
    "correlation_Rain = b['RH'].corr(b['Rain'])\n",
    "correlation_FFMC = b['RH'].corr(b['FFMC'])\n",
    "correlation_DMC = b['RH'].corr(b['DMC'])\n",
    "correlation_DC = b['RH'].corr(b['DC'])\n",
    "correlation_ISI = b['RH'].corr(b['ISI'])\n",
    "correlation_BUI = b['RH'].corr(b['BUI'])\n",
    "correlation_FWI = b['RH'].corr(b['FWI'])\n",
    "\n",
    "# Print all correlations\n",
    "print('Pearson Correlation Coefficients:')\n",
    "print('Ws:  \\t', correlation_Ws)\n",
    "print('Rain:\\t', correlation_Rain)\n",
    "print('FFMC:\\t', correlation_FFMC)\n",
    "print('DMC: \\t', correlation_DMC)\n",
    "print('DC:  \\t', correlation_DC)\n",
    "print('ISI: \\t', correlation_ISI)\n",
    "print('BUI: \\t', correlation_BUI)\n",
    "print('FWI: \\t', correlation_FWI)"
   ]
  },
  {
   "cell_type": "markdown",
   "metadata": {},
   "source": [
    "#### Interpretations\n",
    "According to these correlation coefficients:\n",
    "- **Rain** has the **strongest positive correlation**. This is due to the rain coefficient being the number closest to positive one. This means that, as rain increases, RH also tends in increase.\n",
    "- **FFMC** has the **strongest negative correlation**. This is due to the FFMC coefficient being the number closest to negative one. This means that, as FFMC increases, RH tends to decrease. "
   ]
  },
  {
   "cell_type": "markdown",
   "metadata": {},
   "source": [
    "## Task 6\n",
    "Assume you need to select some attributes or design some new attributes \n",
    "to distinguish these two classes (\"not fire\" and \"fire\") as accurate as possible, which attributes you \n",
    "would like to select or what new attributes you would like to design?"
   ]
  },
  {
   "cell_type": "code",
   "execution_count": null,
   "metadata": {},
   "outputs": [],
   "source": [
    "'''Approach:\n",
    "1) Show that Rain is an indicative factor, Ws is not (histogram)\n",
    "2) Find correlations\n",
    "3) Do some other basic stuff shown\n",
    "4) Go super in depth then'''"
   ]
  }
 ],
 "metadata": {
  "kernelspec": {
   "display_name": "base",
   "language": "python",
   "name": "python3"
  },
  "language_info": {
   "codemirror_mode": {
    "name": "ipython",
    "version": 3
   },
   "file_extension": ".py",
   "mimetype": "text/x-python",
   "name": "python",
   "nbconvert_exporter": "python",
   "pygments_lexer": "ipython3",
   "version": "3.11.7"
  }
 },
 "nbformat": 4,
 "nbformat_minor": 2
}
