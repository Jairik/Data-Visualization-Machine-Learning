{
 "cells": [
  {
   "cell_type": "markdown",
   "metadata": {},
   "source": [
    "*JJ McCauley*"
   ]
  },
  {
   "cell_type": "markdown",
   "metadata": {},
   "source": [
    "## Task 1: Regression for Computer Hardware Dataset"
   ]
  },
  {
   "cell_type": "code",
   "execution_count": 12,
   "metadata": {},
   "outputs": [
    {
     "name": "stdout",
     "output_type": "stream",
     "text": [
      "Mean Absolute Error (MAE):  34.164566195073476\n",
      "Mean Squared Error (MSE):  2597.292739775501\n",
      "Root Mean Squared Error:  50.963641351217255\n",
      "r2 Score:  0.8553522616522726\n"
     ]
    }
   ],
   "source": [
    "import pandas as pd\n",
    "import numpy as np\n",
    "from sklearn import metrics\n",
    "from sklearn.model_selection import train_test_split\n",
    "from sklearn.linear_model import LinearRegression\n",
    "\n",
    "# Retreiving the dataset\n",
    "computer_hardware_df = pd.read_csv(\"machine.data\")\n",
    "X = computer_hardware_df.iloc[:, 3:8]  # Import columns 3-8\n",
    "y = computer_hardware_df.iloc[:, -1]\n",
    "\n",
    "# Determining correlations to select 4 most important attributes\n",
    "correlations = pd.concat([X, y], axis=1).corr()\n",
    "target_correlations = correlations.iloc[:-1, -1]\n",
    "chosen_features = target_correlations.abs().sort_values(ascending=False).head(4)\n",
    "X_new = X[chosen_features.index]\n",
    "\n",
    "# Splitting the dataset\n",
    "x_train, x_test, y_train, y_test = train_test_split(X_new, y, test_size=.4, random_state=42)\n",
    "\n",
    "# Building the Linear Regression Model \n",
    "lr_model = LinearRegression(n_jobs=-1)\n",
    "lr_model.fit(x_train, y_train)\n",
    "y_pred = lr_model.predict(x_test)\n",
    "\n",
    "# Displaying the metrics\n",
    "print(\"Mean Absolute Error (MAE): \", metrics.mean_absolute_error(y_test, y_pred))\n",
    "print(\"Mean Squared Error (MSE): \", metrics.mean_squared_error(y_test, y_pred))\n",
    "print(\"Root Mean Squared Error: \", np.sqrt(metrics.mean_squared_error(y_test, y_pred)))\n",
    "print(\"r2 Score: \", metrics.r2_score(y_test, y_pred))"
   ]
  },
  {
   "cell_type": "markdown",
   "metadata": {},
   "source": [
    "## Task 2: Clustering on Hand-Written Digits"
   ]
  },
  {
   "cell_type": "code",
   "execution_count": null,
   "metadata": {},
   "outputs": [],
   "source": [
    "import pandas as pd\n",
    "import numpy as np\n",
    "import matplotlib.pyplot as plt\n",
    "from sklearn.metrics import classification_report, confusion_matrix, ConfusionMatrixDisplay\n",
    "from sklearn.model_selection import train_test_split\n",
    "from sklearn.cluster import KMeans\n",
    "from sklearn.decomposition import PCA\n",
    "from sklearn.datasets import load_digits\n",
    "\n",
    "# Load in the data from sklearn library\n",
    "digits_loaded_data = load_digits()\n",
    "X = digits_loaded_data.data\n",
    "y = digits_loaded_data.target\n",
    "\n",
    "# Conduct PCA to reduce dimensionality\n"
   ]
  }
 ],
 "metadata": {
  "kernelspec": {
   "display_name": "base",
   "language": "python",
   "name": "python3"
  },
  "language_info": {
   "codemirror_mode": {
    "name": "ipython",
    "version": 3
   },
   "file_extension": ".py",
   "mimetype": "text/x-python",
   "name": "python",
   "nbconvert_exporter": "python",
   "pygments_lexer": "ipython3",
   "version": "3.11.7"
  }
 },
 "nbformat": 4,
 "nbformat_minor": 2
}
