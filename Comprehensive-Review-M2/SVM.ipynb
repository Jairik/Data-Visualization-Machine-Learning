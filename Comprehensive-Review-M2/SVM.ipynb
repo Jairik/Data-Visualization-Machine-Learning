{
 "cells": [
  {
   "cell_type": "markdown",
   "metadata": {},
   "source": [
    "# Support Vector Machines (SVM)\n",
    "Supervised Learning models that **find the optimal hyperplane** that **maximizes the margin** between TWO classes. One of the best models for high-dimensional spaces."
   ]
  },
  {
   "cell_type": "code",
   "execution_count": 5,
   "metadata": {},
   "outputs": [],
   "source": [
    "''' Necessary Imports & Loading the dataset '''\n",
    "import pandas as pd\n",
    "from sklearn.model_selection import train_test_split\n",
    "\n",
    "df = pd.read_csv(\"sample_dataset.txt\", sep='\t')\n",
    "X = df.iloc[:, :-1]  # All but last column\n",
    "y = df.iloc[:, -1]  # Just last column\n",
    "x_train, x_test, y_train, y_test = train_test_split(X, y, test_size=.3, random_state=42)"
   ]
  },
  {
   "cell_type": "markdown",
   "metadata": {},
   "source": [
    "## SVM Parameters\n",
    "- **kernel**: Determines the kernel function that transforms the data into a higher dimensional space, where it may be linearly seperable.\n",
    "    - **linear**: No transformation, finds the optimal hyperplane as-is.\n",
    "    - **poly**: Transforms features into a *higher-degree polynomial space*, allowing for a representation of non-linear relationships. Adds flexibility for non-linear relationships, however is computationally expensive. Must use the *degree* parameter when using poly kernel.\n",
    "    - **rbf**: Stands for *Radial Basis Function* (Gaussian Kernel). Maps data into infinite-dimensional space, creating a non-linear decision boundary. Is flexible and the default choice. *Default parameter*.\n",
    "    - **sigmoid**: Mimics the behavior of NN activitation, rarely used in this application.\n",
    "- **C**: Controls the trade-off between maximizing the margin and minimizing classification errors, with *higher C values causing smaller margin with few misclassified points* (risk of overfitting), where *lower C values causes larger margin with more misclassifications* (risk of underfitting). Default=1.\n",
    "- **gamma**: Defines how far the influence of a single training example reaches in non-linear kernels. Can just set the 'auto' (default) in most cases."
   ]
  },
  {
   "cell_type": "code",
   "execution_count": 3,
   "metadata": {},
   "outputs": [],
   "source": [
    "params = {\n",
    "    'kernel': ['linear', 'poly', 'rbf', 'sigmoid'],  # Sigmoid doesn't really have to be tested\n",
    "    'C': [.001, .01, .1, 1, 10, 100, 1000],  # Would later refine\n",
    "    'gamma': ['auto']  # No point in really ever changing\n",
    "}"
   ]
  },
  {
   "cell_type": "markdown",
   "metadata": {},
   "source": [
    "### Creating SVM & Testing Parameters"
   ]
  },
  {
   "cell_type": "code",
   "execution_count": 7,
   "metadata": {},
   "outputs": [
    {
     "name": "stdout",
     "output_type": "stream",
     "text": [
      "Best Parameters: {'C': 0.1, 'gamma': 'auto', 'kernel': 'linear'}\n",
      "\tBest Score: 0.98\n"
     ]
    }
   ],
   "source": [
    "''' Optimizing Parameters '''\n",
    "from sklearn.metrics import confusion_matrix, classification_report\n",
    "from sklearn.model_selection import GridSearchCV\n",
    "from sklearn.svm import SVC\n",
    "\n",
    "svm = SVC()  # Creating baseline model\n",
    "grid_search = GridSearchCV(svm, param_grid=params, cv=4, n_jobs=-1)\n",
    "grid_search.fit(x_test, y_test)\n",
    "\n",
    "print(f\"Best Parameters: {grid_search.best_params_}\")\n",
    "print(f\"\\tBest Score: {grid_search.best_score_}\")"
   ]
  },
  {
   "cell_type": "code",
   "execution_count": 10,
   "metadata": {},
   "outputs": [
    {
     "name": "stdout",
     "output_type": "stream",
     "text": [
      "Score: 0.9833333333333333\n",
      "[[157   0   0   0]\n",
      " [  0 141   7   0]\n",
      " [  0   1 143   1]\n",
      " [  1   0   0 149]]\n",
      "              precision    recall  f1-score   support\n",
      "\n",
      "           1       0.99      1.00      1.00       157\n",
      "           2       0.99      0.95      0.97       148\n",
      "           3       0.95      0.99      0.97       145\n",
      "           4       0.99      0.99      0.99       150\n",
      "\n",
      "    accuracy                           0.98       600\n",
      "   macro avg       0.98      0.98      0.98       600\n",
      "weighted avg       0.98      0.98      0.98       600\n",
      "\n"
     ]
    }
   ],
   "source": [
    "''' Independent Test '''\n",
    "from sklearn.metrics import confusion_matrix, classification_report\n",
    "from sklearn.svm import SVC\n",
    "\n",
    "# Make and train the model\n",
    "svm_ = SVC(C=1.0, kernel='rbf')  # Default parameters\n",
    "svm_.fit(x_test, y_test)\n",
    "y_pred = svm_.predict(x_test)\n",
    "\n",
    "# Generate + Display performance metrics\n",
    "print(f\"Score: {svm_.score(x_test, y_test)}\")\n",
    "print(confusion_matrix(y_test, y_pred))\n",
    "print(classification_report(y_test, y_pred))"
   ]
  }
 ],
 "metadata": {
  "kernelspec": {
   "display_name": "base",
   "language": "python",
   "name": "python3"
  },
  "language_info": {
   "codemirror_mode": {
    "name": "ipython",
    "version": 3
   },
   "file_extension": ".py",
   "mimetype": "text/x-python",
   "name": "python",
   "nbconvert_exporter": "python",
   "pygments_lexer": "ipython3",
   "version": "3.11.7"
  }
 },
 "nbformat": 4,
 "nbformat_minor": 2
}
