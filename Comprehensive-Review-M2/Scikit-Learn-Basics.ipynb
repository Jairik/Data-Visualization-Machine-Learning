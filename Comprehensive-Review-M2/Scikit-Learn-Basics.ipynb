{
 "cells": [
  {
   "cell_type": "markdown",
   "metadata": {},
   "source": [
    "# Sci-kit Learn Basics\n",
    "Cover the basics of using models in the scikit learn package.\n",
    "\n",
    "https://scikit-learn.org/stable/modules/classes.html#"
   ]
  },
  {
   "cell_type": "markdown",
   "metadata": {},
   "source": [
    "## Datasets\n",
    "Scikit-Learn comes with a few standard datasets to use.\n",
    "\n",
    "https://scikit-learn.org/stable/datasets/toy_dataset.html"
   ]
  },
  {
   "cell_type": "code",
   "execution_count": 1,
   "metadata": {},
   "outputs": [],
   "source": [
    "import pandas as pd  # Load into pandas dataframe\n",
    "from sklearn.model_selection import train_test_split\n",
    "from sklearn.datasets import load_iris # Import for accessing datasets\n",
    "\n",
    "iris = load_iris()\n",
    "\n",
    "# Using this loaded data to make 70/30 training/testing split\n",
    "x_train, x_test, y_train, y_test = train_test_split(\n",
    "    iris.data, iris.target, test_size=.3, random_state=42\n",
    ")\n"
   ]
  },
  {
   "cell_type": "markdown",
   "metadata": {},
   "source": [
    "Conversly, here is how you would create the train test split using a provided dataset"
   ]
  },
  {
   "cell_type": "code",
   "execution_count": 9,
   "metadata": {},
   "outputs": [
    {
     "name": "stdout",
     "output_type": "stream",
     "text": [
      "(1999, 7) (1999,)\n"
     ]
    }
   ],
   "source": [
    "# Load the dataframe\n",
    "df = pd.read_csv(\"sample_dataset.txt\", sep='\t')\n",
    "\n",
    "# Seperate features (X) and target (y)\n",
    "x = df.iloc[:, :-1]  # All rows for all but the last column\n",
    "y = df.iloc[:, -1]  # All rows for just the last column\n",
    "\n",
    "print(x.shape, y.shape)\n",
    "\n",
    "# Get testing & training splits\n",
    "x_train, x_test, y_train, y_test = train_test_split(x, y, test_size=.3, random_state=42)"
   ]
  },
  {
   "cell_type": "markdown",
   "metadata": {},
   "source": [
    "## Functions with all ML Models in Sci-kit Learn\n",
    "- model = **modelName(*parameters*)**\n",
    "- model.**fit(*x_train, y_train*)**\n",
    "- y_pred = model.**predict(*x_test*)**\n",
    "- model.**score(*x_test*, *y_test*)**"
   ]
  },
  {
   "cell_type": "code",
   "execution_count": 10,
   "metadata": {},
   "outputs": [],
   "source": [
    "# Making a dummy model\n",
    "from sklearn.neighbors import KNeighborsClassifier\n",
    "model = KNeighborsClassifier()  # Default arguments\n",
    "model.fit(x_train, y_train)\n",
    "y_pred = model.predict(x_test)"
   ]
  },
  {
   "cell_type": "markdown",
   "metadata": {},
   "source": [
    "# Evaluation Metrics\n",
    "(Confusion Matrix, Classification Report, Cross Validation Test (CVT))"
   ]
  },
  {
   "cell_type": "markdown",
   "metadata": {},
   "source": [
    "## Confusion Matrix"
   ]
  },
  {
   "cell_type": "code",
   "execution_count": null,
   "metadata": {},
   "outputs": [],
   "source": [
    "import matplotlib.pyplot as plt\n",
    "from sklearn.metrics import confusion_matrix, ConfusionMatrixDisplay\n",
    "\n",
    "# Getting the confusion matrix object\n",
    "cm = confusion_matrix(y_test, y_pred)\n",
    "print(cm)\n",
    "\n",
    "# Creating the cool-looking graphical representation thing\n",
    "ConfusionMatrixDisplay.from_estimator(model, x_test, y_test)\n",
    "plt.show()"
   ]
  },
  {
   "cell_type": "markdown",
   "metadata": {},
   "source": [
    "## Classification Report\n",
    "Assesses the quality of the predictions using precision, recall, and f-score metrics"
   ]
  },
  {
   "cell_type": "code",
   "execution_count": 17,
   "metadata": {},
   "outputs": [
    {
     "name": "stdout",
     "output_type": "stream",
     "text": [
      "              precision    recall  f1-score   support\n",
      "\n",
      "           1       0.99      1.00      0.99       157\n",
      "           2       0.99      0.95      0.97       148\n",
      "           3       0.94      0.98      0.96       145\n",
      "           4       0.99      0.98      0.99       150\n",
      "\n",
      "    accuracy                           0.98       600\n",
      "   macro avg       0.98      0.98      0.98       600\n",
      "weighted avg       0.98      0.98      0.98       600\n",
      "\n"
     ]
    }
   ],
   "source": [
    "from sklearn.metrics import classification_report\n",
    "\n",
    "print(classification_report(y_test, y_pred))"
   ]
  },
  {
   "cell_type": "markdown",
   "metadata": {},
   "source": [
    "## Cross Validation Test\n",
    "Splits the data up into 'k' different folds, testing each fold as it's own validation test as the rest are training sets."
   ]
  },
  {
   "cell_type": "code",
   "execution_count": null,
   "metadata": {},
   "outputs": [],
   "source": [
    "from sklearn.model_selection import cross_val_score\n",
    "\n",
    "result = cross_val_score(model, x, y, cv=10)  # Using 10 'folds'\n",
    "\n",
    "print(\"Average Accuracy: \", result.mean())"
   ]
  },
  {
   "cell_type": "markdown",
   "metadata": {},
   "source": [
    "## Independent vs. Self Test\n",
    "- **Independent Test**: When you split the data into testing and training and they have no overlap.\n",
    "- **Self Test**: You use the model on the training dataset to test the validity of the model. If it is a low accuracy, you know just to scrap the model there."
   ]
  },
  {
   "cell_type": "markdown",
   "metadata": {},
   "source": [
    "## GridSearchCV\n",
    "Used for testing numerous parameters for a model"
   ]
  },
  {
   "cell_type": "code",
   "execution_count": null,
   "metadata": {},
   "outputs": [],
   "source": [
    "from sklearn.model_selection import GridSearchCV\n",
    "\n",
    "# Define different parameter lists in dictionary\n",
    "param_grid = {\n",
    "    \"n_neighbors\": [i for i in range(50)]\n",
    "}\n",
    "\n",
    "# Make a grid search object\n",
    "grid_search = GridSearchCV(estimator=model, param_grid=param_grid, cv=5)\n",
    "\n",
    "# Fit to the data\n",
    "grid_search.fit(x_train, y_train)\n",
    "\n",
    "# Find the best parameters and score\n",
    "print(\"Best Parameters:\", grid_search.best_params_)\n",
    "print(\"Best Score: \", grid_search.best_score_)\n",
    "best_model = grid_search.best_estimator_  # Model with optimizing parameters"
   ]
  }
 ],
 "metadata": {
  "kernelspec": {
   "display_name": "base",
   "language": "python",
   "name": "python3"
  },
  "language_info": {
   "codemirror_mode": {
    "name": "ipython",
    "version": 3
   },
   "file_extension": ".py",
   "mimetype": "text/x-python",
   "name": "python",
   "nbconvert_exporter": "python",
   "pygments_lexer": "ipython3",
   "version": "3.11.7"
  }
 },
 "nbformat": 4,
 "nbformat_minor": 2
}
