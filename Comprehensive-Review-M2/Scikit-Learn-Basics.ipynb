{
 "cells": [
  {
   "cell_type": "markdown",
   "metadata": {},
   "source": [
    "# Scikit Learn Basics\n",
    "Cover the basics of using models in the scikit learn package.\n",
    "\n",
    "https://scikit-learn.org/stable/modules/classes.html#"
   ]
  },
  {
   "cell_type": "markdown",
   "metadata": {},
   "source": [
    "## Datasets\n",
    "Scikit-Learn comes with a few standard datasets to use.\n",
    "\n",
    "https://scikit-learn.org/stable/datasets/toy_dataset.html"
   ]
  },
  {
   "cell_type": "code",
   "execution_count": null,
   "metadata": {},
   "outputs": [],
   "source": [
    "import pandas as pd  # Load into pandas dataframe\n",
    "from sklearn.model_selection import train_test_split\n",
    "from sklearn.datasets import load_iris# Import for accessing datasets\n",
    "\n",
    "iris = load_iris()\n",
    "\n",
    "# Using this loaded data to make 70/30 training/testing split\n",
    "x_train, x_test, y_train, y_test = train_test_split(\n",
    "    iris.data, iris.target, test_size=.3, random_state=42\n",
    ")\n"
   ]
  },
  {
   "cell_type": "markdown",
   "metadata": {},
   "source": [
    "Conversly, here is how you would create the train test split using a provided dataset"
   ]
  },
  {
   "cell_type": "code",
   "execution_count": null,
   "metadata": {},
   "outputs": [],
   "source": [
    "# Logic here"
   ]
  }
 ],
 "metadata": {
  "language_info": {
   "name": "python"
  }
 },
 "nbformat": 4,
 "nbformat_minor": 2
}
