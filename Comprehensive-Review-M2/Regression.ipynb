{
 "cells": [
  {
   "cell_type": "markdown",
   "metadata": {},
   "source": [
    "# (Linear) Regression\n",
    "The goal of Linear Regression is to **model the relationship between feature(s)** (explanatory variable(s) x (x2,...,xn)) **and a continuous valued response** (target variable y)."
   ]
  },
  {
   "cell_type": "code",
   "execution_count": 6,
   "metadata": {},
   "outputs": [],
   "source": [
    "import pandas as pd\n",
    "from sklearn.model_selection import train_test_split\n",
    "\n",
    "df = pd.read_csv(\"sample_dataset.txt\", sep='\t')\n",
    "X = df.iloc[:, :-1]\n",
    "y = df.iloc[:, -1]\n",
    "\n",
    "x_train, x_test, y_train, y_test = train_test_split(X, y, test_size=.3, random_state=42)"
   ]
  },
  {
   "cell_type": "markdown",
   "metadata": {},
   "source": [
    "#### Evaluation Metrics\n",
    "There a *three* common evaluation metrics for regression problems:\n",
    "- **Mean Absolute Error (MAE)**: The *mean of the absolute value* of the errors\n",
    "- **Mean Squared Error (MSE)**: The *mean* of the *squared* errors\n",
    "- **Root Mean Squared Error (RMSE)**: The *square root* of the *mean* of the *squared* errors\n",
    "We want to minimize all of these functions."
   ]
  },
  {
   "cell_type": "markdown",
   "metadata": {},
   "source": [
    "### Creating the Model\n",
    "Linear Regression has essentially no parameters, so there is no need to worry about that!"
   ]
  },
  {
   "cell_type": "code",
   "execution_count": null,
   "metadata": {},
   "outputs": [],
   "source": [
    "import matplotlib.pyplot as plt\n",
    "import numpy as np\n",
    "from sklearn.linear_model import LinearRegression\n",
    "\n",
    "# Create & Fit the model\n",
    "model = LinearRegression()\n",
    "model.fit(x_train, y_train)\n",
    "\n",
    "# Get the prediction & plot it against the datapoints\n",
    "y_pred = model.predict(x_test)\n",
    "plt.plot(y_test, y_pred, '.')\n",
    "\n",
    "# plot a line, a perfect prediction would fall on this line\n",
    "x = np.linspace(0, 5, 5)  # Axis sizes of graph\n",
    "y = x\n",
    "plt.plot(x, y)\n",
    "plt.show()\n",
    "\n",
    "# NOTE: This output is a bad example because it is classification but whatever, this is super easy"
   ]
  },
  {
   "cell_type": "markdown",
   "metadata": {},
   "source": [
    "#### Getting Coefficients and Intercepts\n",
    "Under this module, these are just stored as member variables under the model object."
   ]
  },
  {
   "cell_type": "code",
   "execution_count": 9,
   "metadata": {},
   "outputs": [
    {
     "name": "stdout",
     "output_type": "stream",
     "text": [
      "Coefficients:  [ 0.017626   -0.00820165  0.05652635  0.01638335  0.07202078 -0.04161304\n",
      " -0.02456968]\n",
      "y-Intercept:  6.086426231090267\n"
     ]
    }
   ],
   "source": [
    "print(\"Coefficients: \", model.coef_)\n",
    "print(\"y-Intercept: \", model.intercept_)"
   ]
  }
 ],
 "metadata": {
  "kernelspec": {
   "display_name": "base",
   "language": "python",
   "name": "python3"
  },
  "language_info": {
   "codemirror_mode": {
    "name": "ipython",
    "version": 3
   },
   "file_extension": ".py",
   "mimetype": "text/x-python",
   "name": "python",
   "nbconvert_exporter": "python",
   "pygments_lexer": "ipython3",
   "version": "3.11.7"
  }
 },
 "nbformat": 4,
 "nbformat_minor": 2
}
