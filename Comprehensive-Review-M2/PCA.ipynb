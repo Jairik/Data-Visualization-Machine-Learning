{
 "cells": [
  {
   "cell_type": "markdown",
   "metadata": {},
   "source": [
    "Covers PCA & CVT"
   ]
  },
  {
   "cell_type": "markdown",
   "metadata": {},
   "source": [
    "# Principle Component Analysis (PCA)\n",
    "A dimensionality reduction technique that transforms data into a smaller set of uncorrelated variables (*principle components*) while preserving as much variance as possible.\n"
   ]
  },
  {
   "cell_type": "code",
   "execution_count": 10,
   "metadata": {},
   "outputs": [],
   "source": [
    "''' Loading Data & Encoding Features '''\n",
    "# Necessary Imports\n",
    "import pandas as pd\n",
    "import numpy as np\n",
    "from sklearn.model_selection import train_test_split\n",
    "from sklearn.datasets import load_iris\n",
    "\n",
    "# Load iris data into dataframe\n",
    "loaded_data = load_iris(as_frame=True)\n",
    "iris_data = loaded_data.frame\n",
    "\n",
    "# Since PCA does not take non-numerical or boolean data, must label encode\n",
    "iris_data.replace({'Iris-setosa': 0, 'Iris-versicolor': 1, 'Iris-virginica':2}, inplace=True)\n",
    "\n",
    "# Extract X, y\n",
    "X = iris_data.iloc[:, :-1]\n",
    "y = iris_data.iloc[:, -1]"
   ]
  },
  {
   "cell_type": "markdown",
   "metadata": {},
   "source": [
    "## Using PCA\n",
    "Once n_components is determined, use it as a PCA parameter to reduce dimensionality of X."
   ]
  },
  {
   "cell_type": "code",
   "execution_count": null,
   "metadata": {},
   "outputs": [],
   "source": [
    "from sklearn.decomposition import PCA\n",
    "\n",
    "# Run PCA on X\n",
    "pca = PCA()\n",
    "X_new = pca.fit_transform(X)\n",
    "\n",
    "# Show the explained covariance of each feature\n",
    "print(pca.explained_variance_ratio_)\n",
    "\n",
    "# Calculate the number of features needed for minimum variance\n",
    "minimum_variance = .95\n",
    "cumulative_variance = np.cumsum(pca.explained_variance_ratio_)\n",
    "n_components = np.argmax(cumulative_variance >= 0.90) + 1\n",
    "print(f\"Number of Components Needed for {minimum_variance} variance: {n_components}\")\n",
    "\n",
    "# Now, transform dataset with given n_components\n",
    "pca = PCA(n_components=n_components)\n",
    "X_new = pca.fit_transform(X)\n",
    "print(X_new.shape)  # Showing reduced dimensionality\n",
    "\n",
    "''' Now, this dataset's dimensionality has been reduced and is ready for training '''"
   ]
  },
  {
   "cell_type": "markdown",
   "metadata": {},
   "source": [
    "# Cross Validation Test (CVT)\n",
    "For CVT, the data is partitioned into ***k*** (roughly) equal sized segments/folds. Then, iterations of training and validation are performed on those folds, with **1 validation fold** and **k-1 training folds**"
   ]
  },
  {
   "cell_type": "code",
   "execution_count": 21,
   "metadata": {},
   "outputs": [],
   "source": [
    "''' Using Data above, creating simple SVM model to test CVT '''\n",
    "from sklearn.svm import SVC\n",
    "from sklearn.model_selection import train_test_split\n",
    "x_train, x_test, y_train, y_test = train_test_split(X_new, y, test_size=.3, random_state=42)\n",
    "model = SVC()"
   ]
  },
  {
   "cell_type": "code",
   "execution_count": 22,
   "metadata": {},
   "outputs": [
    {
     "name": "stdout",
     "output_type": "stream",
     "text": [
      "Average Accuracy: 0.9133333333333334\n"
     ]
    }
   ],
   "source": [
    "''' Using Cross Validation Test (CVT) to test model '''\n",
    "from sklearn.model_selection import cross_val_score\n",
    "\n",
    "# Get the results from CVT & print them\n",
    "results = cross_val_score(model, X_new, y, cv=5)  # 5 'folds'\n",
    "print(f\"Average Accuracy: {results.mean()}\")\n"
   ]
  }
 ],
 "metadata": {
  "kernelspec": {
   "display_name": "base",
   "language": "python",
   "name": "python3"
  },
  "language_info": {
   "codemirror_mode": {
    "name": "ipython",
    "version": 3
   },
   "file_extension": ".py",
   "mimetype": "text/x-python",
   "name": "python",
   "nbconvert_exporter": "python",
   "pygments_lexer": "ipython3",
   "version": "3.11.7"
  }
 },
 "nbformat": 4,
 "nbformat_minor": 2
}
