{
 "cells": [
  {
   "cell_type": "markdown",
   "metadata": {},
   "source": [
    "# Decision Trees\n",
    "Supervised Learning Algorithm that breaks decisions up into a tree structure, roughly reflecting human decision making. "
   ]
  },
  {
   "cell_type": "code",
   "execution_count": 11,
   "metadata": {},
   "outputs": [],
   "source": [
    "'''Loading the Dataset & Making imports'''\n",
    "from sklearn.datasets import load_wine\n",
    "# All imports needed\n",
    "import pandas as pd\n",
    "from sklearn.model_selection import train_test_split\n",
    "from sklearn.tree import DecisionTreeClassifier\n",
    "\n",
    "dataset = load_wine()\n",
    "X = dataset['data']\n",
    "y = dataset['target']\n",
    "x_train, x_test, y_train, y_test = train_test_split(X, y, test_size=.3, random_state=42)"
   ]
  },
  {
   "cell_type": "markdown",
   "metadata": {},
   "source": [
    "## Decision Tree Parameters\n",
    "For Decision Tree, there are a couple of important parameters.\n",
    "##### General Parameters\n",
    "- **criterion**: Determines the function that measures the quality of the split\n",
    "    - **gini**: Gini Impurity (Default)\n",
    "    - **entrophy**: Information gain using entropy\n",
    "##### Tree Growth Parameters\n",
    "- **max_depth**: The maximum depth of the tree. Prevent overfitting by limiting depth. (Default=None)\n",
    "- **min_samples_split**: The mimimum number of samples required to split a node (default=2). Larger values will make the tree more conservative with fewer splits. *Typically good to keep at 2.*\n",
    "- **min_samples_leaf**: The mimum number of samples required to be a lead node (default=1). Useful to prevent overfitting.\n",
    "\n",
    "Everything else is pretty insignificant, can be found on scikit learn's website.\n"
   ]
  },
  {
   "cell_type": "code",
   "execution_count": 12,
   "metadata": {},
   "outputs": [],
   "source": [
    "params = {\n",
    "    \"criterion\": ['gini', 'entropy'],\n",
    "    \"max_depth\": [25, 50, 75, 100, None],  # In real world, would be refined later\n",
    "    \"min_samples_split\": [i for i in range(2, 8)],\n",
    "    \"min_samples_leaf\": [j for j in range(1, 5)]\n",
    "}"
   ]
  },
  {
   "cell_type": "markdown",
   "metadata": {},
   "source": [
    "### Creating The Model & Testing Parameters"
   ]
  },
  {
   "cell_type": "code",
   "execution_count": null,
   "metadata": {},
   "outputs": [],
   "source": [
    "''' Optimizing Parameters '''\n",
    "from sklearn.model_selection import GridSearchCV\n",
    "from sklearn.tree import DecisionTreeClassifier\n",
    "\n",
    "dt = DecisionTreeClassifier()\n",
    "grid_search = GridSearchCV(dt, params, n_jobs=-1, cv=4)\n",
    "grid_search.fit(X, y)\n",
    "\n",
    "print(\"Best Parameters: \", grid_search.best_params_)\n",
    "print(\"\\tScore: \", grid_search.best_score_)\n"
   ]
  },
  {
   "cell_type": "code",
   "execution_count": null,
   "metadata": {},
   "outputs": [],
   "source": [
    "''' Independent Test '''\n",
    "from sklearn.tree import DecisionTreeClassifier\n",
    "from sklearn.metrics import classification_report, confusion_matrix\n",
    "\n",
    "dt_ = DecisionTreeClassifier(criterion='entropy')\n",
    "dt_.fit(x_train, y_train)\n",
    "y_pred = dt_.predict(x_test)\n",
    "\n",
    "# Printing important metrics/evaluations\n",
    "print(\"Score: \", dt_.score(x_train, y_train))\n",
    "cm = confusion_matrix(y_test, y_pred)\n",
    "print(cm)\n",
    "print(classification_report(y_test, y_pred))"
   ]
  }
 ],
 "metadata": {
  "kernelspec": {
   "display_name": "base",
   "language": "python",
   "name": "python3"
  },
  "language_info": {
   "codemirror_mode": {
    "name": "ipython",
    "version": 3
   },
   "file_extension": ".py",
   "mimetype": "text/x-python",
   "name": "python",
   "nbconvert_exporter": "python",
   "pygments_lexer": "ipython3",
   "version": "3.11.7"
  }
 },
 "nbformat": 4,
 "nbformat_minor": 2
}
