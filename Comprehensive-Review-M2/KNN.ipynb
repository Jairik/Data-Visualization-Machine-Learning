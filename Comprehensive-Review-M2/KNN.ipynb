{
 "cells": [
  {
   "cell_type": "markdown",
   "metadata": {},
   "source": [
    "# KNN (K-Nearest-Neighbors)\n",
    "Data-driven (not model driven) algorithm. Works in the following ways for classification/regression:\n",
    "- **Classification**: If *unweighted*, outputs the most common classification among the k-nearest neighbors. If *weigted*, sums up the weights of the k-nearest neighbors for each classification value, outputting the classifcation with the highest weight.\n",
    "- **Regression**: Basically does the same thing, except with the averages. When *weighted*, weights the nearest neighbors by the inverse of their distance."
   ]
  },
  {
   "cell_type": "code",
   "execution_count": 4,
   "metadata": {},
   "outputs": [],
   "source": [
    "'''Loading the Dataset & Making imports'''\n",
    "import pandas as pd\n",
    "from sklearn.datasets import load_wine\n",
    "from sklearn.model_selection import train_test_split\n",
    "from sklearn.neighbors import KNeighborsClassifier\n",
    "\n",
    "dataset = load_wine()\n",
    "X = dataset['data']\n",
    "y = dataset['target']\n",
    "x_train, x_test, y_train, y_test = train_test_split(X, y, test_size=.3, random_state=42)"
   ]
  },
  {
   "cell_type": "markdown",
   "metadata": {},
   "source": [
    "## Importance of parameter k\n",
    "K essentially tells you have many nearest-neighbors the datapoint will look at. **Low k values** capture the local structure of the data (but also noise), while **High k values** provide more smoothing and less noise, but may miss local structure."
   ]
  },
  {
   "cell_type": "code",
   "execution_count": 5,
   "metadata": {},
   "outputs": [
    {
     "data": {
      "text/plain": [
       "0.7741935483870968"
      ]
     },
     "execution_count": 5,
     "metadata": {},
     "output_type": "execute_result"
    }
   ],
   "source": [
    "from sklearn.neighbors import KNeighborsClassifier\n",
    "\n",
    "# Create & fit the model\n",
    "knn = KNeighborsClassifier(n_neighbors=5)  # Default argument\n",
    "knn.fit(x_train, y_train)\n",
    "\n",
    "# Make a prediction & get the score\n",
    "y_pred = knn.predict(x_train)\n",
    "knn.score(x_train, y_train)"
   ]
  },
  {
   "cell_type": "markdown",
   "metadata": {},
   "source": [
    "## Paramater Tuning for KNN\n",
    "The most important parameter is k."
   ]
  }
 ],
 "metadata": {
  "kernelspec": {
   "display_name": "base",
   "language": "python",
   "name": "python3"
  },
  "language_info": {
   "codemirror_mode": {
    "name": "ipython",
    "version": 3
   },
   "file_extension": ".py",
   "mimetype": "text/x-python",
   "name": "python",
   "nbconvert_exporter": "python",
   "pygments_lexer": "ipython3",
   "version": "3.11.7"
  }
 },
 "nbformat": 4,
 "nbformat_minor": 2
}
