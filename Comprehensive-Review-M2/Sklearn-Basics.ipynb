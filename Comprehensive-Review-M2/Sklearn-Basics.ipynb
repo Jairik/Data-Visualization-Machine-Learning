{
 "cells": [
  {
   "cell_type": "markdown",
   "metadata": {},
   "source": [
    "# Sci-kit Learn Basics\n",
    "Cover the basics of using models in the scikit learn package.\n",
    "\n",
    "https://scikit-learn.org/stable/modules/classes.html#"
   ]
  },
  {
   "cell_type": "markdown",
   "metadata": {},
   "source": [
    "## Datasets\n",
    "Scikit-Learn comes with a few standard datasets to use.\n",
    "\n",
    "https://scikit-learn.org/stable/datasets/toy_dataset.html"
   ]
  },
  {
   "cell_type": "code",
   "execution_count": 2,
   "metadata": {},
   "outputs": [],
   "source": [
    "import pandas as pd  # Load into pandas dataframe\n",
    "from sklearn.model_selection import train_test_split\n",
    "from sklearn.datasets import load_iris # Import for accessing datasets\n",
    "\n",
    "iris = load_iris()\n",
    "\n",
    "# Using this loaded data to make 70/30 training/testing split\n",
    "x_train, x_test, y_train, y_test = train_test_split(\n",
    "    iris.data, iris.target, test_size=.3, random_state=42\n",
    ")\n"
   ]
  },
  {
   "cell_type": "markdown",
   "metadata": {},
   "source": [
    "Conversly, here is how you would create the train test split using a provided dataset"
   ]
  },
  {
   "cell_type": "code",
   "execution_count": 3,
   "metadata": {},
   "outputs": [
    {
     "name": "stdout",
     "output_type": "stream",
     "text": [
      "(1999, 7) (1999,)\n"
     ]
    }
   ],
   "source": [
    "# Load the dataframe\n",
    "df = pd.read_csv(\"sample_dataset.txt\", sep='\t')\n",
    "\n",
    "# Seperate features (X) and target (y)\n",
    "x = df.iloc[:, :-1]  # All rows for all but the last column\n",
    "y = df.iloc[:, -1]  # All rows for just the last column\n",
    "\n",
    "print(x.shape, y.shape)\n",
    "\n",
    "# Get testing & training splits\n",
    "x_train, x_test, y_train, y_test = train_test_split(x, y, test_size=.3, random_state=42)"
   ]
  },
  {
   "cell_type": "markdown",
   "metadata": {},
   "source": [
    "## Functions with all ML Models in Sci-kit Learn\n",
    "- model = **modelName(*parameters*)**\n",
    "- model.**fit(*x_train, y_train*)**\n",
    "- y_pred = model.**predict(*x_test*)**\n",
    "- model.**score(*x_test*, *y_test*)**"
   ]
  },
  {
   "cell_type": "code",
   "execution_count": 4,
   "metadata": {},
   "outputs": [],
   "source": [
    "# Making a dummy model\n",
    "from sklearn.neighbors import KNeighborsClassifier\n",
    "model = KNeighborsClassifier()  # Default arguments\n",
    "model.fit(x_train, y_train)\n",
    "y_pred = model.predict(x_test)"
   ]
  },
  {
   "cell_type": "markdown",
   "metadata": {},
   "source": [
    "# Evaluation Metrics\n",
    "(Confusion Matrix, Classification Report, Cross Validation Test (CVT))"
   ]
  },
  {
   "cell_type": "markdown",
   "metadata": {},
   "source": [
    "## Confusion Matrix"
   ]
  },
  {
   "cell_type": "code",
   "execution_count": 5,
   "metadata": {},
   "outputs": [
    {
     "name": "stdout",
     "output_type": "stream",
     "text": [
      "[[157   0   0   0]\n",
      " [  0 141   7   0]\n",
      " [  1   1 142   1]\n",
      " [  1   0   2 147]]\n"
     ]
    },
    {
     "data": {
      "image/png": "[encoded data removed]",
      "text/plain": [
       "<Figure size 640x480 with 2 Axes>"
      ]
     },
     "metadata": {},
     "output_type": "display_data"
    }
   ],
   "source": [
    "import matplotlib.pyplot as plt\n",
    "from sklearn.metrics import confusion_matrix, ConfusionMatrixDisplay\n",
    "\n",
    "# Getting the confusion matrix object\n",
    "cm = confusion_matrix(y_test, y_pred)\n",
    "print(cm)\n",
    "\n",
    "# Creating the cool-looking graphical representation thing\n",
    "ConfusionMatrixDisplay.from_estimator(model, x_test, y_test)\n",
    "plt.show()"
   ]
  },
  {
   "cell_type": "markdown",
   "metadata": {},
   "source": [
    "## Classification Report\n",
    "Assesses the quality of the predictions using precision, recall, and f-score metrics"
   ]
  },
  {
   "cell_type": "code",
   "execution_count": 6,
   "metadata": {},
   "outputs": [
    {
     "name": "stdout",
     "output_type": "stream",
     "text": [
      "              precision    recall  f1-score   support\n",
      "\n",
      "           1       0.99      1.00      0.99       157\n",
      "           2       0.99      0.95      0.97       148\n",
      "           3       0.94      0.98      0.96       145\n",
      "           4       0.99      0.98      0.99       150\n",
      "\n",
      "    accuracy                           0.98       600\n",
      "   macro avg       0.98      0.98      0.98       600\n",
      "weighted avg       0.98      0.98      0.98       600\n",
      "\n"
     ]
    }
   ],
   "source": [
    "from sklearn.metrics import classification_report\n",
    "\n",
    "print(classification_report(y_test, y_pred))"
   ]
  },
  {
   "cell_type": "markdown",
   "metadata": {},
   "source": [
    "## Cross Validation Test\n",
    "Splits the data up into 'k' different folds, testing each fold as it's own validation test as the rest are training sets."
   ]
  },
  {
   "cell_type": "code",
   "execution_count": 7,
   "metadata": {},
   "outputs": [
    {
     "name": "stdout",
     "output_type": "stream",
     "text": [
      "Average Accuracy:  0.9759874371859297\n"
     ]
    }
   ],
   "source": [
    "from sklearn.model_selection import cross_val_score\n",
    "\n",
    "result = cross_val_score(model, x, y, cv=10)  # Using 10 'folds'\n",
    "\n",
    "print(\"Average Accuracy: \", result.mean())"
   ]
  },
  {
   "cell_type": "markdown",
   "metadata": {},
   "source": [
    "## Independent vs. Self Test\n",
    "- **Independent Test**: When you split the data into testing and training and they have no overlap.\n",
    "- **Self Test**: You use the model on the training dataset to test the validity of the model. If it is a low accuracy, you know just to scrap the model there."
   ]
  },
  {
   "cell_type": "markdown",
   "metadata": {},
   "source": [
    "## GridSearchCV\n",
    "Used for testing numerous parameters for a model"
   ]
  },
  {
   "cell_type": "code",
   "execution_count": 8,
   "metadata": {},
   "outputs": [
    {
     "name": "stdout",
     "output_type": "stream",
     "text": [
      "Best Parameters: {'n_neighbors': 4}\n",
      "Best Score:  0.9857091653865847\n"
     ]
    },
    {
     "name": "stderr",
     "output_type": "stream",
     "text": [
      "c:\\Users\\jairi\\anaconda3\\Lib\\site-packages\\sklearn\\model_selection\\_validation.py:378: FitFailedWarning: \n",
      "5 fits failed out of a total of 250.\n",
      "The score on these train-test partitions for these parameters will be set to nan.\n",
      "If these failures are not expected, you can try to debug them by setting error_score='raise'.\n",
      "\n",
      "Below are more details about the failures:\n",
      "--------------------------------------------------------------------------------\n",
      "5 fits failed with the following error:\n",
      "Traceback (most recent call last):\n",
      "  File \"c:\\Users\\jairi\\anaconda3\\Lib\\site-packages\\sklearn\\model_selection\\_validation.py\", line 686, in _fit_and_score\n",
      "    estimator.fit(X_train, y_train, **fit_params)\n",
      "  File \"c:\\Users\\jairi\\anaconda3\\Lib\\site-packages\\sklearn\\neighbors\\_classification.py\", line 213, in fit\n",
      "    self._validate_params()\n",
      "  File \"c:\\Users\\jairi\\anaconda3\\Lib\\site-packages\\sklearn\\base.py\", line 600, in _validate_params\n",
      "    validate_parameter_constraints(\n",
      "  File \"c:\\Users\\jairi\\anaconda3\\Lib\\site-packages\\sklearn\\utils\\_param_validation.py\", line 97, in validate_parameter_constraints\n",
      "    raise InvalidParameterError(\n",
      "sklearn.utils._param_validation.InvalidParameterError: The 'n_neighbors' parameter of KNeighborsClassifier must be an int in the range [1, inf) or None. Got 0 instead.\n",
      "\n",
      "  warnings.warn(some_fits_failed_message, FitFailedWarning)\n",
      "c:\\Users\\jairi\\anaconda3\\Lib\\site-packages\\sklearn\\model_selection\\_search.py:952: UserWarning: One or more of the test scores are non-finite: [       nan 0.98570405 0.98356887 0.98356119 0.98570917 0.98427803\n",
      " 0.98427803 0.98213262 0.98356375 0.98141833 0.98141833 0.9799872\n",
      " 0.98141577 0.97855863 0.98070148 0.97927291 0.97998976 0.97784434\n",
      " 0.97784434 0.97855863 0.97784434 0.97855863 0.97784434 0.97713006\n",
      " 0.97784434 0.97713006 0.97784434 0.97713006 0.97713006 0.97713006\n",
      " 0.97784434 0.97713006 0.97784434 0.97641577 0.97784434 0.97713006\n",
      " 0.97927547 0.97784434 0.97927547 0.97855863 0.97927547 0.9778469\n",
      " 0.97856119 0.97713262 0.97856119 0.9778469  0.9778469  0.97713262\n",
      " 0.97713262 0.97713262]\n",
      "  warnings.warn(\n"
     ]
    }
   ],
   "source": [
    "from sklearn.model_selection import GridSearchCV\n",
    "\n",
    "# Define different parameter lists in dictionary\n",
    "param_grid = {\n",
    "    \"n_neighbors\": [i for i in range(50)]\n",
    "}\n",
    "\n",
    "# Make a grid search object\n",
    "grid_search = GridSearchCV(estimator=model, param_grid=param_grid, cv=5)\n",
    "\n",
    "# Fit to the data\n",
    "grid_search.fit(x_train, y_train)\n",
    "\n",
    "# Find the best parameters and score\n",
    "print(\"Best Parameters:\", grid_search.best_params_)\n",
    "print(\"Best Score: \", grid_search.best_score_)\n",
    "best_model = grid_search.best_estimator_  # Model with optimizing parameters"
   ]
  },
  {
   "cell_type": "markdown",
   "metadata": {},
   "source": [
    "### Making Algorithms Faster: n_jobs parameter\n",
    "set n_jobs=-1 for faster execution. Basically just uses all cores of the cpu."
   ]
  }
 ],
 "metadata": {
  "kernelspec": {
   "display_name": "base",
   "language": "python",
   "name": "python3"
  },
  "language_info": {
   "codemirror_mode": {
    "name": "ipython",
    "version": 3
   },
   "file_extension": ".py",
   "mimetype": "text/x-python",
   "name": "python",
   "nbconvert_exporter": "python",
   "pygments_lexer": "ipython3",
   "version": "3.11.7"
  }
 },
 "nbformat": 4,
 "nbformat_minor": 2
}
